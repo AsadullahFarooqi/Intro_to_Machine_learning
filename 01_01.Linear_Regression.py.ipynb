{
 "cells": [
  {
   "cell_type": "code",
   "execution_count": 27,
   "metadata": {},
   "outputs": [],
   "source": [
    "import matplotlib.pyplot as plt\n",
    "import numpy as np\n",
    "from sklearn import datasets, linear_model"
   ]
  },
  {
   "cell_type": "markdown",
   "metadata": {},
   "source": [
    "#### np.array(array_name).reshape((number of rows, number of columns))\n",
    "1. You can also pass the -1 in the parameters which is very confusing.\n",
    "2. '-1' means undefine so it will find out it by itself.  \n",
    "> Example: **L=[12 items]** or **L=[1,2,3,4,5,6,7, 8, 9, 10, 11, 12];** **D=np.array(L).reshape((3, -1))** in this case the columns are undefined. So L will be saperated/split in 3 lists/rows and numpy will find out how many columns it can get! well in this case result will be 3 rows/lists each with 4 columns. **D=[[4 cols],[4 cols],[4 cols]]** or **D=[[1, 2, 3, 4], [5, 6, 7, 8], [9,10,11,12]]**\n",
    "    "
   ]
  },
  {
   "cell_type": "code",
   "execution_count": 28,
   "metadata": {},
   "outputs": [],
   "source": [
    "house_price = [240, 312, 279, 308, 199, 219, 405, 324, 319, 255]\n",
    "size = [1400, 1600, 1700, 1875, 1100, 1550, 2350, 2450, 1425, 1700]\n",
    "size2 = np.array(size).reshape((-1, 1))"
   ]
  },
  {
   "cell_type": "code",
   "execution_count": 31,
   "metadata": {},
   "outputs": [
    {
     "name": "stdout",
     "output_type": "stream",
     "text": [
      "Coeficient ::  [0.11076997]\n",
      "intercept ::  96.02951002227178\n"
     ]
    }
   ],
   "source": [
    "linear_regressor = linear_model.LinearRegression()\n",
    "linear_regressor.fit(size2, house_price)\n",
    "print(\"Coeficient :: \", linear_regressor.coef_)\n",
    "print(\"intercept :: \", linear_regressor.intercept_)"
   ]
  },
  {
   "cell_type": "code",
   "execution_count": 33,
   "metadata": {},
   "outputs": [
    {
     "name": "stdout",
     "output_type": "stream",
     "text": [
      "[256.64595927]\n"
     ]
    }
   ],
   "source": [
    "new_size = 1450\n",
    "price = (new_size * linear_regressor.coef_) + linear_regressor.intercept_\n",
    "print(price)"
   ]
  },
  {
   "cell_type": "code",
   "execution_count": 37,
   "metadata": {},
   "outputs": [],
   "source": [
    "def graph(formula, x_range):\n",
    "    x = np.array(x_range)\n",
    "    y = eval(formula)\n",
    "    plt.plot(x,y)"
   ]
  },
  {
   "cell_type": "code",
   "execution_count": 38,
   "metadata": {},
   "outputs": [
    {
     "data": {
      "image/png": "[encoded data removed]",
      "text/plain": [
       "<matplotlib.figure.Figure at 0x7f73dfeb30f0>"
      ]
     },
     "metadata": {},
     "output_type": "display_data"
    }
   ],
   "source": [
    "graph(\"linear_regressor.coef_*x + linear_regressor.intercept_\", range(1000, 2700))\n",
    "plt.scatter (size, house_price, color=\"black\")\n",
    "plt.ylabel(\"house prices\")\n",
    "plt.xlabel(\"size of house\")\n",
    "plt.show()"
   ]
  },
  {
   "cell_type": "code",
   "execution_count": null,
   "metadata": {},
   "outputs": [],
   "source": []
  }
 ],
 "metadata": {
  "kernelspec": {
   "display_name": "Python 3",
   "language": "python",
   "name": "python3"
  },
  "language_info": {
   "codemirror_mode": {
    "name": "ipython",
    "version": 3
   },
   "file_extension": ".py",
   "mimetype": "text/x-python",
   "name": "python",
   "nbconvert_exporter": "python",
   "pygments_lexer": "ipython3",
   "version": "3.6.4"
  }
 },
 "nbformat": 4,
 "nbformat_minor": 2
}
