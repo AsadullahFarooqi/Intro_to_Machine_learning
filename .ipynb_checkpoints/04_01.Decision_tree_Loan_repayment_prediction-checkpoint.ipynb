{
 "cells": [
  {
   "cell_type": "code",
   "execution_count": 11,
   "metadata": {},
   "outputs": [],
   "source": [
    "import numpy as np\n",
    "import pandas as pd\n",
    "from sklearn.model_selection import train_test_split\n",
    "from sklearn.tree import DecisionTreeClassifier\n",
    "from sklearn.metrics import accuracy_score\n",
    "from sklearn import tree"
   ]
  },
  {
   "cell_type": "code",
   "execution_count": 14,
   "metadata": {
    "scrolled": true
   },
   "outputs": [
    {
     "name": "stdout",
     "output_type": "stream",
     "text": [
      "checking the first 5 rows \n",
      "      1      2    3     4    sum Unnamed: 5\n",
      "0  201  10018  250  3046  13515        yes\n",
      "1  205  10016  395  3044  13660        yes\n",
      "2  257  10129  109  3251  13746        yes\n",
      "3  246  10064  324  3137  13771        yes\n",
      "4  117  10115  496  3094  13822        yes\n",
      "Dataset lenth ::  1000\n",
      "dataset shape ::  (1000, 6)\n"
     ]
    }
   ],
   "source": [
    "#reading the data\n",
    "balance_data = pd.read_csv(\"datasets/Decision_Tree_ Dataset.csv\", sep=\",\", header=0)\n",
    "\n",
    "print(\"checking the first 5 rows \\n\", balance_data.head())\n",
    "\n",
    "print(\"Dataset lenth :: \", len(balance_data))\n",
    "print(\"dataset shape :: \", balance_data.shape)"
   ]
  },
  {
   "cell_type": "code",
   "execution_count": 31,
   "metadata": {
    "scrolled": true
   },
   "outputs": [],
   "source": [
    "# saperating the data of cols into x/input and y/output\n",
    "# so the first col is the the output we want to predict. So col from 1 to 5 are features\n",
    "# of each data point. so we are seperating the x/features and y/output for training\n",
    "x = balance_data.values[:, 0:5]\n",
    "y = balance_data.values[:, 5]\n",
    "\n",
    "# splitting the dataset into training and testing \n",
    "x_train, x_test, y_train, y_test = train_test_split(x, y , test_size= 0.3, random_state=100)"
   ]
  },
  {
   "cell_type": "code",
   "execution_count": 33,
   "metadata": {},
   "outputs": [
    {
     "data": {
      "text/plain": [
       "DecisionTreeClassifier(class_weight=None, criterion='entropy', max_depth=3,\n",
       "            max_features=None, max_leaf_nodes=None,\n",
       "            min_impurity_decrease=0.0, min_impurity_split=None,\n",
       "            min_samples_leaf=5, min_samples_split=2,\n",
       "            min_weight_fraction_leaf=0.0, presort=False, random_state=100,\n",
       "            splitter='best')"
      ]
     },
     "execution_count": 33,
     "metadata": {},
     "output_type": "execute_result"
    }
   ],
   "source": [
    "# assigning the classifier\n",
    "clf_entropy = DecisionTreeClassifier(criterion=\"entropy\", \n",
    "                                     random_state=100, max_depth=3, min_samples_leaf=5)\n",
    "\n",
    "# fitting the data to classifier\n",
    "clf_entropy.fit(x_train, y_train)"
   ]
  },
  {
   "cell_type": "code",
   "execution_count": 36,
   "metadata": {},
   "outputs": [
    {
     "name": "stdout",
     "output_type": "stream",
     "text": [
      "['yes' 'yes' 'No' 'yes' 'No' 'yes' 'No' 'No' 'No' 'No' 'No' 'No' 'yes'\n",
      " 'No' 'No' 'yes' 'yes' 'No' 'yes' 'No' 'No' 'yes' 'No' 'yes' 'yes' 'No'\n",
      " 'No' 'yes' 'No' 'No' 'No' 'yes' 'yes' 'yes' 'yes' 'No' 'No' 'No' 'yes'\n",
      " 'yes' 'yes' 'yes' 'yes' 'No' 'No' 'yes' 'No' 'yes' 'No' 'No' 'yes' 'No'\n",
      " 'yes' 'yes' 'yes' 'yes' 'No' 'No' 'No' 'yes' 'yes' 'No' 'No' 'yes' 'No'\n",
      " 'yes' 'yes' 'yes' 'No' 'yes' 'No' 'No' 'No' 'yes' 'No' 'yes' 'yes' 'No'\n",
      " 'yes' 'No' 'No' 'No' 'No' 'yes' 'No' 'yes' 'No' 'No' 'yes' 'No' 'yes'\n",
      " 'yes' 'No' 'yes' 'yes' 'No' 'yes' 'yes' 'yes' 'yes' 'No' 'No' 'yes' 'No'\n",
      " 'No' 'yes' 'yes' 'yes' 'No' 'yes' 'yes' 'yes' 'yes' 'No' 'No' 'yes' 'yes'\n",
      " 'yes' 'No' 'yes' 'No' 'No' 'yes' 'yes' 'No' 'No' 'yes' 'yes' 'No' 'No'\n",
      " 'yes' 'yes' 'No' 'yes' 'yes' 'yes' 'No' 'yes' 'yes' 'No' 'No' 'yes' 'yes'\n",
      " 'yes' 'No' 'yes' 'yes' 'yes' 'yes' 'No' 'yes' 'No' 'No' 'No' 'No' 'yes'\n",
      " 'No' 'No' 'No' 'yes' 'No' 'No' 'yes' 'yes' 'No' 'yes' 'No' 'yes' 'No'\n",
      " 'No' 'yes' 'yes' 'No' 'yes' 'No' 'yes' 'yes' 'No' 'No' 'No' 'No' 'No'\n",
      " 'yes' 'No' 'No' 'yes' 'yes' 'yes' 'yes' 'yes' 'No' 'yes' 'No' 'yes' 'No'\n",
      " 'No' 'No' 'yes' 'yes' 'No' 'No' 'yes' 'yes' 'No' 'No' 'No' 'yes' 'yes'\n",
      " 'No' 'No' 'yes' 'yes' 'yes' 'yes' 'yes' 'yes' 'yes' 'yes' 'yes' 'No'\n",
      " 'yes' 'yes' 'No' 'No' 'yes' 'No' 'yes' 'yes' 'No' 'No' 'yes' 'No' 'yes'\n",
      " 'yes' 'yes' 'yes' 'No' 'No' 'No' 'No' 'No' 'yes' 'No' 'yes' 'yes' 'No'\n",
      " 'yes' 'yes' 'No' 'No' 'No' 'yes' 'No' 'No' 'No' 'No' 'No' 'No' 'No' 'yes'\n",
      " 'yes' 'yes' 'yes' 'yes' 'yes' 'No' 'No' 'No' 'No' 'yes' 'No' 'yes' 'yes'\n",
      " 'yes' 'No' 'No' 'No' 'yes' 'yes' 'No' 'yes' 'No' 'No' 'No' 'yes' 'yes'\n",
      " 'No' 'No' 'yes' 'yes' 'No' 'No' 'yes' 'No' 'yes' 'yes' 'No' 'No' 'yes'\n",
      " 'yes']\n"
     ]
    }
   ],
   "source": [
    "# making the prediction\n",
    "y_pred = clf_entropy.predict(x_test)\n",
    "print(y_pred)"
   ]
  },
  {
   "cell_type": "code",
   "execution_count": 39,
   "metadata": {
    "scrolled": true
   },
   "outputs": [
    {
     "name": "stdout",
     "output_type": "stream",
     "text": [
      "accuracy ::  100.0\n"
     ]
    }
   ],
   "source": [
    "# finding out how accurate is the model after the training/fitting\n",
    "print(\"accuracy :: \", accuracy_score(y_test, y_pred)*100)"
   ]
  },
  {
   "cell_type": "code",
   "execution_count": null,
   "metadata": {},
   "outputs": [],
   "source": []
  }
 ],
 "metadata": {
  "kernelspec": {
   "display_name": "Python 3",
   "language": "python",
   "name": "python3"
  },
  "language_info": {
   "codemirror_mode": {
    "name": "ipython",
    "version": 3
   },
   "file_extension": ".py",
   "mimetype": "text/x-python",
   "name": "python",
   "nbconvert_exporter": "python",
   "pygments_lexer": "ipython3",
   "version": "3.6.4"
  }
 },
 "nbformat": 4,
 "nbformat_minor": 2
}
